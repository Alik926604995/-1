{
  "nbformat": 4,
  "nbformat_minor": 0,
  "metadata": {
    "colab": {
      "provenance": []
    },
    "kernelspec": {
      "name": "python3",
      "display_name": "Python 3"
    },
    "language_info": {
      "name": "python"
    }
  },
  "cells": [
    {
      "cell_type": "code",
      "source": [
        "a=input(\"Введите ваши фамилию,имя,отчество\")\n",
        "b=input(\"Сколько вам лет\")\n",
        "c=input(\"Где вы живете\")\n",
        "print(a)\n",
        "print(b)\n",
        "print(c)"
      ],
      "metadata": {
        "colab": {
          "base_uri": "https://localhost:8080/"
        },
        "id": "hyt1SY5ASlpJ",
        "outputId": "c35c7e3f-4e90-463b-ca16-599008e3cb6f"
      },
      "execution_count": 2,
      "outputs": [
        {
          "output_type": "stream",
          "name": "stdout",
          "text": [
            "Введите ваши фамилию,имя,отчествоБободжонов Абдулаким Шавкатджонович\n",
            "Сколько вам лет18\n",
            "Где вы живетеСтаврополь\n",
            "Бободжонов Абдулаким Шавкатджонович\n",
            "18\n",
            "Ставрополь\n"
          ]
        }
      ]
    },
    {
      "cell_type": "code",
      "execution_count": null,
      "metadata": {
        "id": "f-m_or0USNMQ"
      },
      "outputs": [],
      "source": []
    }
  ]
}